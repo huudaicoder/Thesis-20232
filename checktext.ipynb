{
 "cells": [
  {
   "cell_type": "code",
   "execution_count": 1,
   "metadata": {},
   "outputs": [],
   "source": [
    "api_key='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'"
   ]
  },
  {
   "cell_type": "code",
   "execution_count": 10,
   "metadata": {},
   "outputs": [],
   "source": [
    "text = \"\"\"\n",
    "    -Vị Trí: hẻm 1/ Nguyễn Văn Đậu, Phường 6, Bình Thạnh, Hồ Chí Minh\\r\\n*Diện tích 63m2   4,2X15\\r\\n-Giá 3 tỷ 2\\r\\n*Nhà 1 trệt 2 Lầu 4 Phòng 3 Nhà vệ sinh\\r\\n-Đường oto 6m thông thoáng\\r\\n*Khu vực an ninh thuận tiện kinh doanh, cho thuê cực kì tốt\\r\\nHIỆN ĐANG CÓ HỢP ĐỒNG THUÊ 14TR/THÁNG\\r\\n-Nhà còn mới chốt ngay sẽ được thương lượng mạnh\\r\\n*Liên hệ ngay để được tư vấn miễn phí\"\"\"\n"
   ]
  },
  {
   "cell_type": "code",
   "execution_count": 12,
   "metadata": {},
   "outputs": [
    {
     "name": "stdout",
     "output_type": "stream",
     "text": [
      "Based on the provided text, I found the following information about the mặt tiền (width):\n",
      "\n",
      "`*Diện tích 63m2   4,2X15`\n",
      "\n",
      "From this, I can extract the width as 4.2 meters.\n",
      "\n",
      "Here is the returned JSON:\n",
      "\n",
      "`{ \"width\": 4.2 }`\n"
     ]
    }
   ],
   "source": [
    "from groq import Groq\n",
    "\n",
    "# Khởi tạo Groq client với API key của bạn\n",
    "client = Groq(api_key='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')\n",
    "\n",
    "def extract_information(text):\n",
    "    # Prompt cải tiến để yêu cầu Groq trả về chính xác thông tin pháp lý và mặt tiền\n",
    "    prompt = f\"\"\"\n",
    "    Văn bản: \"{text}\"\n",
    "    Hãy lấy thông tin về  mặt tiền. Trả về dưới dạng JSON với khóa 'width'. Nếu không có thông tin, để giá trị là None.\n",
    "    \"\"\"\n",
    "\n",
    "    completion = client.chat.completions.create(\n",
    "        model=\"llama3-70b-8192\",\n",
    "        messages=[\n",
    "            {\n",
    "                \"role\": \"user\",\n",
    "                \"content\": prompt,\n",
    "            }\n",
    "        ],\n",
    "        temperature=1,\n",
    "        max_tokens=1024,\n",
    "        top_p=1,\n",
    "        stream=True,\n",
    "        stop=None\n",
    "    )\n",
    "\n",
    "    response = \"\"\n",
    "    for chunk in completion:\n",
    "        content = getattr(chunk.choices[0].delta, 'content', None)\n",
    "        if content:\n",
    "            response += content\n",
    "\n",
    "    return response\n",
    "\n",
    "# Trích xuất thông tin từ đoạn văn bản\n",
    "extracted_info = extract_information(text)\n",
    "\n",
    "# In kết quả cuối cùng\n",
    "print(extracted_info)\n"
   ]
  }
 ],
 "metadata": {
  "kernelspec": {
   "display_name": "pr-venv",
   "language": "python",
   "name": "python3"
  },
  "language_info": {
   "codemirror_mode": {
    "name": "ipython",
    "version": 3
   },
   "file_extension": ".py",
   "mimetype": "text/x-python",
   "name": "python",
   "nbconvert_exporter": "python",
   "pygments_lexer": "ipython3",
   "version": "3.12.0"
  }
 },
 "nbformat": 4,
 "nbformat_minor": 2
}
